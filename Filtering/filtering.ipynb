{
  "cells": [
    {
      "cell_type": "markdown",
      "metadata": {},
      "source": [
        "---\n",
        "jupyter: python3\n",
        "---\n",
        "\n",
        "### Imports"
      ]
    },
    {
      "cell_type": "code",
      "metadata": {},
      "source": [
        "import numpy as np\n",
        "from skimage import data, io"
      ],
      "execution_count": null,
      "outputs": []
    },
    {
      "cell_type": "markdown",
      "metadata": {},
      "source": [
        "### Correlation Calculation"
      ]
    },
    {
      "cell_type": "code",
      "metadata": {},
      "source": [
        "def correlation(image: np.ndarray, kernel: np.ndarray, y, x):\n",
        "    correlation_val = 0\n",
        "    kernel_height, kernel_width = kernel.shape\n",
        "    for i in range(kernel_height):\n",
        "        for j in range(kernel_width):\n",
        "            correlation_val += kernel[i][j] * image[y + i][x + j]\n",
        "\n",
        "    return correlation_val"
      ],
      "execution_count": null,
      "outputs": []
    },
    {
      "cell_type": "markdown",
      "metadata": {},
      "source": [
        "### Simple Averaging Kernel"
      ]
    },
    {
      "cell_type": "code",
      "metadata": {},
      "source": [
        "kernel_average = np.array([[1 / 9, 1 / 9, 1 / 9],\n",
        "                [1 / 9, 1 / 9, 1 / 9],\n",
        "                [1 / 9, 1 / 9, 1 / 9]])"
      ],
      "execution_count": null,
      "outputs": []
    },
    {
      "cell_type": "markdown",
      "metadata": {},
      "source": [
        "### Get Coins image and get average of pixel 0, 0"
      ]
    },
    {
      "cell_type": "code",
      "metadata": {},
      "source": [
        "coins = data.coins()\n",
        "correlation_val = correlation(coins, kernel_average, 0, 0)\n",
        "print(f\"Correlation: {correlation_val}\")"
      ],
      "execution_count": null,
      "outputs": []
    },
    {
      "cell_type": "markdown",
      "metadata": {},
      "source": [
        "### Apply Correlation Filter of a kernel for an entire image "
      ]
    },
    {
      "cell_type": "code",
      "metadata": {},
      "source": [
        "def correlation_filter(image: np.ndarray, kernel: np.ndarray):\n",
        "    image_height, image_width = image.shape\n",
        "    kernel_height, kernel_width = kernel.shape\n",
        "    filtered_image = image.copy()\n",
        "    for i in range(image_height - kernel_height):\n",
        "        for j in range(image_width - kernel_width):\n",
        "            filtered_image[i][j] = correlation(image, kernel, i, j)\n",
        "\n",
        "    return filtered_image"
      ],
      "execution_count": null,
      "outputs": []
    },
    {
      "cell_type": "code",
      "metadata": {},
      "source": [
        "filtered_image = correlation_filter(coins, kernel_average)\n",
        "io.imshow(filtered_image)\n",
        "io.show()"
      ],
      "execution_count": null,
      "outputs": []
    },
    {
      "cell_type": "markdown",
      "metadata": {},
      "source": [
        "### Gaussian Filter\n",
        "The 2-D Gaussian filter is defined by \n",
        "g(x, y) = e^[-(x^2 + y^2) / 2 * sigma^2]\n",
        "where sigma is the number of standard deviations we'd like\n"
      ]
    },
    {
      "cell_type": "code",
      "metadata": {},
      "source": [
        "def generate_gaussian_filter(size: int, sig=1):\n",
        "    linspace = np.linspace(-(size - 1) / 2., (size - 1) / 2., size)\n",
        "    x, y = np.meshgrid(linspace, linspace)\n",
        "    return np.exp(-0.5 * (np.square(x) + np.square(y)) / np.square(sig))"
      ],
      "execution_count": null,
      "outputs": []
    },
    {
      "cell_type": "markdown",
      "metadata": {},
      "source": [
        "Apply Correlation Filter to image using gaussian filter"
      ]
    },
    {
      "cell_type": "code",
      "metadata": {},
      "source": [
        "gaussian_kernel = generate_gaussian_filter(3)\n",
        "\n",
        "filtered_image = correlation_filter(coins, gaussian_kernel)\n",
        "io.imshow(filtered_image)\n",
        "io.show()"
      ],
      "execution_count": null,
      "outputs": []
    }
  ],
  "metadata": {
    "kernelspec": {
      "display_name": "Python 3",
      "language": "python",
      "name": "python3"
    }
  },
  "nbformat": 4,
  "nbformat_minor": 4
}